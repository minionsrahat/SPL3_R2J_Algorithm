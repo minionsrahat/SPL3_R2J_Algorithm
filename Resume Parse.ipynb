{
 "cells": [
  {
   "cell_type": "code",
   "execution_count": 3,
   "metadata": {},
   "outputs": [
    {
     "name": "stdout",
     "output_type": "stream",
     "text": [
      "Requirement already satisfied: pyresparser in c:\\users\\rahat\\appdata\\roaming\\python\\python37\\site-packages (1.0.6)\n",
      "Requirement already satisfied: pycryptodome>=3.8.2 in c:\\users\\rahat\\appdata\\roaming\\python\\python37\\site-packages (from pyresparser) (3.16.0)\n",
      "Requirement already satisfied: srsly>=0.0.7 in c:\\users\\rahat\\appdata\\roaming\\python\\python37\\site-packages (from pyresparser) (2.4.5)\n",
      "Requirement already satisfied: certifi>=2019.6.16 in c:\\users\\rahat\\appdata\\roaming\\python\\python37\\site-packages (from pyresparser) (2022.12.7)\n",
      "Requirement already satisfied: python-dateutil>=2.8.0 in c:\\programdata\\anaconda3\\lib\\site-packages (from pyresparser) (2.8.1)\n",
      "Requirement already satisfied: requests>=2.22.0 in c:\\programdata\\anaconda3\\lib\\site-packages (from pyresparser) (2.22.0)\n",
      "Requirement already satisfied: jsonschema>=3.0.1 in c:\\programdata\\anaconda3\\lib\\site-packages (from pyresparser) (3.2.0)\n",
      "Requirement already satisfied: pdfminer.six>=20181108 in c:\\users\\rahat\\appdata\\roaming\\python\\python37\\site-packages (from pyresparser) (20221105)\n",
      "Requirement already satisfied: idna>=2.8 in c:\\programdata\\anaconda3\\lib\\site-packages (from pyresparser) (2.8)\n",
      "Requirement already satisfied: wasabi>=0.2.2 in c:\\programdata\\anaconda3\\lib\\site-packages (from pyresparser) (0.10.1)\n",
      "Requirement already satisfied: pytz>=2019.1 in c:\\programdata\\anaconda3\\lib\\site-packages (from pyresparser) (2019.3)\n",
      "Requirement already satisfied: six>=1.12.0 in c:\\programdata\\anaconda3\\lib\\site-packages (from pyresparser) (1.14.0)\n",
      "Requirement already satisfied: chardet>=3.0.4 in c:\\programdata\\anaconda3\\lib\\site-packages (from pyresparser) (3.0.4)\n",
      "Requirement already satisfied: preshed>=2.0.1 in c:\\programdata\\anaconda3\\lib\\site-packages (from pyresparser) (3.0.8)\n",
      "Requirement already satisfied: spacy>=2.1.4 in c:\\users\\rahat\\appdata\\roaming\\python\\python37\\site-packages (from pyresparser) (3.4.4)\n",
      "Requirement already satisfied: attrs>=19.1.0 in c:\\programdata\\anaconda3\\lib\\site-packages (from pyresparser) (19.3.0)\n",
      "Requirement already satisfied: cymem>=2.0.2 in c:\\programdata\\anaconda3\\lib\\site-packages (from pyresparser) (2.0.7)\n",
      "Requirement already satisfied: pandas>=0.24.2 in c:\\programdata\\anaconda3\\lib\\site-packages (from pyresparser) (1.3.5)\n",
      "Requirement already satisfied: urllib3>=1.25.3 in c:\\users\\rahat\\appdata\\roaming\\python\\python37\\site-packages (from pyresparser) (1.25.11)\n",
      "Requirement already satisfied: blis>=0.2.4 in c:\\programdata\\anaconda3\\lib\\site-packages (from pyresparser) (0.7.9)\n",
      "Requirement already satisfied: docx2txt>=0.7 in c:\\programdata\\anaconda3\\lib\\site-packages (from pyresparser) (0.8)\n",
      "Requirement already satisfied: thinc>=7.0.4 in c:\\users\\rahat\\appdata\\roaming\\python\\python37\\site-packages (from pyresparser) (8.1.7)\n",
      "Requirement already satisfied: numpy>=1.16.4 in c:\\programdata\\anaconda3\\lib\\site-packages (from pyresparser) (1.21.6)\n",
      "Requirement already satisfied: nltk>=3.4.3 in c:\\users\\rahat\\appdata\\roaming\\python\\python37\\site-packages (from pyresparser) (3.8.1)\n",
      "Requirement already satisfied: sortedcontainers>=2.1.0 in c:\\programdata\\anaconda3\\lib\\site-packages (from pyresparser) (2.1.0)\n",
      "Requirement already satisfied: tqdm>=4.32.2 in c:\\programdata\\anaconda3\\lib\\site-packages (from pyresparser) (4.42.1)\n",
      "Requirement already satisfied: pyrsistent>=0.15.2 in c:\\programdata\\anaconda3\\lib\\site-packages (from pyresparser) (0.15.7)\n",
      "Requirement already satisfied: importlib-metadata in c:\\programdata\\anaconda3\\lib\\site-packages (from jsonschema>=3.0.1->pyresparser) (1.5.0)\n",
      "Requirement already satisfied: setuptools in c:\\programdata\\anaconda3\\lib\\site-packages (from jsonschema>=3.0.1->pyresparser) (65.7.0)\n",
      "Requirement already satisfied: click in c:\\users\\rahat\\appdata\\roaming\\python\\python37\\site-packages (from nltk>=3.4.3->pyresparser) (7.1.2)\n",
      "Requirement already satisfied: regex>=2021.8.3 in c:\\users\\rahat\\appdata\\roaming\\python\\python37\\site-packages (from nltk>=3.4.3->pyresparser) (2022.10.31)\n",
      "Requirement already satisfied: joblib in c:\\programdata\\anaconda3\\lib\\site-packages (from nltk>=3.4.3->pyresparser) (0.14.1)\n",
      "Requirement already satisfied: cryptography>=36.0.0 in c:\\users\\rahat\\appdata\\roaming\\python\\python37\\site-packages (from pdfminer.six>=20181108->pyresparser) (39.0.0)\n",
      "Requirement already satisfied: charset-normalizer>=2.0.0 in c:\\users\\rahat\\appdata\\roaming\\python\\python37\\site-packages (from pdfminer.six>=20181108->pyresparser) (3.0.1)\n",
      "Requirement already satisfied: typing-extensions in c:\\users\\rahat\\appdata\\roaming\\python\\python37\\site-packages (from pdfminer.six>=20181108->pyresparser) (3.10.0.2)\n",
      "Requirement already satisfied: murmurhash<1.1.0,>=0.28.0 in c:\\programdata\\anaconda3\\lib\\site-packages (from preshed>=2.0.1->pyresparser) (1.0.9)\n",
      "Requirement already satisfied: spacy-legacy<3.1.0,>=3.0.10 in c:\\programdata\\anaconda3\\lib\\site-packages (from spacy>=2.1.4->pyresparser) (3.0.11)\n",
      "Requirement already satisfied: packaging>=20.0 in c:\\programdata\\anaconda3\\lib\\site-packages (from spacy>=2.1.4->pyresparser) (20.1)\n",
      "Requirement already satisfied: smart-open<7.0.0,>=5.2.1 in c:\\programdata\\anaconda3\\lib\\site-packages (from spacy>=2.1.4->pyresparser) (6.3.0)\n",
      "Requirement already satisfied: pathy>=0.3.5 in c:\\programdata\\anaconda3\\lib\\site-packages (from spacy>=2.1.4->pyresparser) (0.10.1)\n",
      "Requirement already satisfied: typer<0.8.0,>=0.3.0 in c:\\users\\rahat\\appdata\\roaming\\python\\python37\\site-packages (from spacy>=2.1.4->pyresparser) (0.3.2)\n",
      "Requirement already satisfied: spacy-loggers<2.0.0,>=1.0.0 in c:\\programdata\\anaconda3\\lib\\site-packages (from spacy>=2.1.4->pyresparser) (1.0.4)\n",
      "Requirement already satisfied: jinja2 in c:\\programdata\\anaconda3\\lib\\site-packages (from spacy>=2.1.4->pyresparser) (2.11.1)\n",
      "Requirement already satisfied: langcodes<4.0.0,>=3.2.0 in c:\\programdata\\anaconda3\\lib\\site-packages (from spacy>=2.1.4->pyresparser) (3.3.0)\n",
      "Requirement already satisfied: pydantic!=1.8,!=1.8.1,<1.11.0,>=1.7.4 in c:\\users\\rahat\\appdata\\roaming\\python\\python37\\site-packages (from spacy>=2.1.4->pyresparser) (1.8.2)\n",
      "Requirement already satisfied: catalogue<2.1.0,>=2.0.6 in c:\\users\\rahat\\appdata\\roaming\\python\\python37\\site-packages (from spacy>=2.1.4->pyresparser) (2.0.8)\n",
      "Requirement already satisfied: confection<1.0.0,>=0.0.1 in c:\\programdata\\anaconda3\\lib\\site-packages (from thinc>=7.0.4->pyresparser) (0.0.3)\n",
      "Requirement already satisfied: zipp>=0.5 in c:\\programdata\\anaconda3\\lib\\site-packages (from catalogue<2.1.0,>=2.0.6->spacy>=2.1.4->pyresparser) (2.2.0)\n",
      "Requirement already satisfied: cffi>=1.12 in c:\\programdata\\anaconda3\\lib\\site-packages (from cryptography>=36.0.0->pdfminer.six>=20181108->pyresparser) (1.14.0)\n",
      "Requirement already satisfied: pyparsing>=2.0.2 in c:\\programdata\\anaconda3\\lib\\site-packages (from packaging>=20.0->spacy>=2.1.4->pyresparser) (2.4.6)\n",
      "Requirement already satisfied: MarkupSafe>=0.23 in c:\\programdata\\anaconda3\\lib\\site-packages (from jinja2->spacy>=2.1.4->pyresparser) (2.0.1)\n",
      "Requirement already satisfied: pycparser in c:\\programdata\\anaconda3\\lib\\site-packages (from cffi>=1.12->cryptography>=36.0.0->pdfminer.six>=20181108->pyresparser) (2.19)\n",
      "Note: you may need to restart the kernel to use updated packages.\n"
     ]
    },
    {
     "name": "stderr",
     "output_type": "stream",
     "text": [
      "WARNING: Ignoring invalid distribution -rsly (c:\\programdata\\anaconda3\\lib\\site-packages)\n",
      "WARNING: Ignoring invalid distribution -rllib3 (c:\\programdata\\anaconda3\\lib\\site-packages)\n",
      "WARNING: Ignoring invalid distribution -illow (c:\\programdata\\anaconda3\\lib\\site-packages)\n",
      "WARNING: Ignoring invalid distribution -hinc (c:\\programdata\\anaconda3\\lib\\site-packages)\n",
      "WARNING: Ignoring invalid distribution -ensorflow-estimator (c:\\programdata\\anaconda3\\lib\\site-packages)\n",
      "WARNING: Ignoring invalid distribution -cikit-learn (c:\\programdata\\anaconda3\\lib\\site-packages)\n",
      "WARNING: Ignoring invalid distribution -atalogue (c:\\programdata\\anaconda3\\lib\\site-packages)\n",
      "WARNING: Ignoring invalid distribution -rsly (c:\\programdata\\anaconda3\\lib\\site-packages)\n",
      "WARNING: Ignoring invalid distribution -rllib3 (c:\\programdata\\anaconda3\\lib\\site-packages)\n",
      "WARNING: Ignoring invalid distribution -illow (c:\\programdata\\anaconda3\\lib\\site-packages)\n",
      "WARNING: Ignoring invalid distribution -hinc (c:\\programdata\\anaconda3\\lib\\site-packages)\n",
      "WARNING: Ignoring invalid distribution -ensorflow-estimator (c:\\programdata\\anaconda3\\lib\\site-packages)\n",
      "WARNING: Ignoring invalid distribution -cikit-learn (c:\\programdata\\anaconda3\\lib\\site-packages)\n",
      "WARNING: Ignoring invalid distribution -atalogue (c:\\programdata\\anaconda3\\lib\\site-packages)\n",
      "WARNING: Ignoring invalid distribution -rsly (c:\\programdata\\anaconda3\\lib\\site-packages)\n",
      "WARNING: Ignoring invalid distribution -rllib3 (c:\\programdata\\anaconda3\\lib\\site-packages)\n",
      "WARNING: Ignoring invalid distribution -illow (c:\\programdata\\anaconda3\\lib\\site-packages)\n",
      "WARNING: Ignoring invalid distribution -hinc (c:\\programdata\\anaconda3\\lib\\site-packages)\n",
      "WARNING: Ignoring invalid distribution -ensorflow-estimator (c:\\programdata\\anaconda3\\lib\\site-packages)\n",
      "WARNING: Ignoring invalid distribution -cikit-learn (c:\\programdata\\anaconda3\\lib\\site-packages)\n",
      "WARNING: Ignoring invalid distribution -atalogue (c:\\programdata\\anaconda3\\lib\\site-packages)\n",
      "WARNING: Ignoring invalid distribution -rsly (c:\\programdata\\anaconda3\\lib\\site-packages)\n",
      "WARNING: Ignoring invalid distribution -rllib3 (c:\\programdata\\anaconda3\\lib\\site-packages)\n",
      "WARNING: Ignoring invalid distribution -illow (c:\\programdata\\anaconda3\\lib\\site-packages)\n",
      "WARNING: Ignoring invalid distribution -hinc (c:\\programdata\\anaconda3\\lib\\site-packages)\n",
      "WARNING: Ignoring invalid distribution -ensorflow-estimator (c:\\programdata\\anaconda3\\lib\\site-packages)\n",
      "WARNING: Ignoring invalid distribution -cikit-learn (c:\\programdata\\anaconda3\\lib\\site-packages)\n",
      "WARNING: Ignoring invalid distribution -atalogue (c:\\programdata\\anaconda3\\lib\\site-packages)\n"
     ]
    }
   ],
   "source": [
    "pip install pyresparser --user"
   ]
  },
  {
   "cell_type": "code",
   "execution_count": 1,
   "metadata": {},
   "outputs": [],
   "source": [
    "from pyresparser import ResumeParser"
   ]
  },
  {
   "cell_type": "code",
   "execution_count": 2,
   "metadata": {},
   "outputs": [],
   "source": [
    "data = ResumeParser('ASH1825022M-Rahat Uddin Azad.pdf').get_extracted_data()"
   ]
  },
  {
   "cell_type": "code",
   "execution_count": null,
   "metadata": {},
   "outputs": [],
   "source": []
  },
  {
   "cell_type": "code",
   "execution_count": 4,
   "metadata": {},
   "outputs": [],
   "source": [
    "data = resumeparse.read_file(\"ASH1825022M-Rahat Uddin Azad.pdf\")"
   ]
  },
  {
   "cell_type": "code",
   "execution_count": 4,
   "metadata": {},
   "outputs": [],
   "source": [
    "skills=[]"
   ]
  },
  {
   "cell_type": "code",
   "execution_count": 5,
   "metadata": {},
   "outputs": [],
   "source": [
    "skills.append(' '.join(word for word in data['skills']))"
   ]
  },
  {
   "cell_type": "code",
   "execution_count": 3,
   "metadata": {},
   "outputs": [
    {
     "data": {
      "text/plain": [
       "{'name': 'Rahat Uddin',\n",
       " 'email': 'rahat2513@student.nstu.edu.bd',\n",
       " 'mobile_number': '+01878517664',\n",
       " 'designation': ['full stack web developer',\n",
       "  'web developer',\n",
       "  'data scientist',\n",
       "  'scientist',\n",
       "  'web developer',\n",
       "  'web developer',\n",
       "  'student',\n",
       "  'student',\n",
       "  'student'],\n",
       " 'skills': ['Wordpress',\n",
       "  'Js',\n",
       "  'Php',\n",
       "  'R',\n",
       "  'Flask',\n",
       "  'C++',\n",
       "  'Mysql',\n",
       "  'Email',\n",
       "  'Scripting',\n",
       "  'Windows',\n",
       "  'Python',\n",
       "  'Java',\n",
       "  'Health',\n",
       "  'Communication',\n",
       "  'C',\n",
       "  'Certification',\n",
       "  'Selenium',\n",
       "  'Programming',\n",
       "  'Website',\n",
       "  'Tensorflow',\n",
       "  'Css',\n",
       "  'Training',\n",
       "  'Automation',\n",
       "  'Keras',\n",
       "  'Engineering',\n",
       "  'System',\n",
       "  'Design',\n",
       "  'Facebook',\n",
       "  'Information technology',\n",
       "  'Html',\n",
       "  'Linux',\n",
       "  'Javascript',\n",
       "  'International',\n",
       "  'Shell'],\n",
       " 'education': ['SSC', 'HSC'],\n",
       " 'experience': [],\n",
       " 'competencies': [],\n",
       " 'measurable_results': []}"
      ]
     },
     "execution_count": 3,
     "metadata": {},
     "output_type": "execute_result"
    }
   ],
   "source": [
    "data"
   ]
  },
  {
   "cell_type": "code",
   "execution_count": null,
   "metadata": {},
   "outputs": [],
   "source": []
  }
 ],
 "metadata": {
  "kernelspec": {
   "display_name": "Python 3",
   "language": "python",
   "name": "python3"
  },
  "language_info": {
   "codemirror_mode": {
    "name": "ipython",
    "version": 3
   },
   "file_extension": ".py",
   "mimetype": "text/x-python",
   "name": "python",
   "nbconvert_exporter": "python",
   "pygments_lexer": "ipython3",
   "version": "3.7.6"
  }
 },
 "nbformat": 4,
 "nbformat_minor": 4
}
