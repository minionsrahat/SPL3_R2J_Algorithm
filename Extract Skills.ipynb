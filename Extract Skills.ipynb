{
 "cells": [
  {
   "cell_type": "code",
   "execution_count": 2,
   "metadata": {},
   "outputs": [],
   "source": [
    "import spacy\n",
    "from spacy.matcher import PhraseMatcher\n",
    "import pandas as pd"
   ]
  },
  {
   "cell_type": "code",
   "execution_count": 3,
   "metadata": {},
   "outputs": [],
   "source": [
    "# load default skills data base\n",
    "from skillNer.general_params import SKILL_DB\n",
    "# import skill extractor\n",
    "from skillNer.skill_extractor_class import SkillExtractor\n",
    "\n",
    "# init params of skill extractor\n",
    "nlp = spacy.load(\"en_core_web_lg\")"
   ]
  },
  {
   "cell_type": "code",
   "execution_count": 4,
   "metadata": {},
   "outputs": [
    {
     "name": "stdout",
     "output_type": "stream",
     "text": [
      "loading full_matcher ...\n",
      "loading abv_matcher ...\n",
      "loading full_uni_matcher ...\n",
      "loading low_form_matcher ...\n",
      "loading token_matcher ...\n"
     ]
    }
   ],
   "source": [
    "# init skill extractor\n",
    "skill_extractor = SkillExtractor(nlp, SKILL_DB, PhraseMatcher)"
   ]
  },
  {
   "cell_type": "code",
   "execution_count": 5,
   "metadata": {},
   "outputs": [],
   "source": [
    "job_description=\"Belay Technologies has been voted Baltimore Business Journal's (BBJ) Best Places to Work 2019, runner up in 2020 and a finalist in 2021!Belay Technologies is seeking a a Web Developer to join their software development team.Telework Availability: TBDCandidates should have the following qualifications: \\nTS/SCI with polygraph is required.\\n8 years’ experience (12 years with no qualifying degree)\\nBachelor’s degree in a technical discipline from an accredited college or university is required.\\nCandidates are required to have the following skills: \\nAs a Web Developer, some of your duties will include:\\nUse a variety of internet technologies, techniques and tools such as graphics software applications and object-oriented languages (e.g. Java, CGI, Visual Basic, HTML, \\nWork with management and information technologists to determine specifications\\nMaintain a functioning user-accessible website\\nDebug existing software and correct defects\\nCodes less complex websites using HTML, Visual Basic, or other web-based programming languages\\nSupport website planning and deployment\\nWrite documentation regarding the website’s technical requirements\\nMaintain website technical documentation to assist with website maintenance and upgrades\\nApply concepts, develops, tests, maintain and supports high-performance, innovative web-based applications\\nResponsible for troubleshooting software problems and providing solutions to overcome those problems using the latest technologies\\nWork with management and information technologists to determine specifications\\nIn concert with the software development lead, develop, test, maintain and support high-performance, innovative web-based applications\\nAnalyze and troubleshoot complex software problems and providing solutions using the latest technologies\\nWork independently on more complex projects\\nIntegrate new web products with existing web applications in order to improve the functionality or design of the organization’s website\\nCandidates are desired to have the following skills: \\nExperienced and familiar with React\\nExperienced and familiar with Java\\nExperienced and familiar with Kubernetes\\nExperienced and familiar with Docker\\nBelay Technologies is a Service Disabled Veteran Owned Small Business located in Columbia Maryland. Belay specializes in systems automation and full stack development. Belay Technologies provides leading technology and engineering solutions to the DoD, as well as state-of-the-art commercial products. We hire software engineers, web designers, test engineers, systems engineers, systems administrators, database engineers and other tech services.Perks and Benefits:\\n8 weeks paid leave - 4 weeks of personal leave, 3 Yay! days, take off on your birthday,11 paid holidays and optional leave up to 6 days through Belay's volunteer program\\n10% matching in 401(k) contributions vested on day one\\n$5,000 annual training/tuition\\nStudent Loan Repayment Program\\n100% company funded HSA\\nRich medical coverage (100% coinsurance)\\nDental coverage including orthodontia\\nUp to $420,000 in life insurance, premiums 100% company funded\\nAmazon Prime, gym reimbursement, monthly lunches, games and prizes\\nPet adoption program, generous referral bonus program, fun events, and more!\\nWe are a certified Service Disabled Veteran Owned Small Business in the Baltimore/Washington area, and we are an Equal Opportunity Employer. Employment decisions are made without regard to race, color, religion, national origin, gender, sexual orientation, gender identity, age, physical or mental disability, genetic factors, military/veteran status or other characteristics protected by law.Key words: Full Clearance, Fort Meade, SDVOSB, Service-disabled veteran owned small business, DoD, full scope.Powered by JazzHR7QYIsgnzBJSDL2017\\n\\nRecommended Skills\\n\\nWeb Development\\nDevelop Mobile Application\\nUse Api\\nUse Front End Technology\\nJavascript (Programming Language)\\nTroubleshooting Web Applications\""
   ]
  },
  {
   "cell_type": "code",
   "execution_count": 6,
   "metadata": {},
   "outputs": [
    {
     "name": "stderr",
     "output_type": "stream",
     "text": [
      "C:\\Users\\RAHAT\\AppData\\Roaming\\Python\\Python37\\site-packages\\skillNer\\utils.py:99: UserWarning: [W008] Evaluating Token.similarity based on empty vectors.\n",
      "  vec_similarity = token1.similarity(token2)\n"
     ]
    }
   ],
   "source": [
    "annotations = skill_extractor.annotate(job_description)"
   ]
  },
  {
   "cell_type": "code",
   "execution_count": 7,
   "metadata": {},
   "outputs": [
    {
     "data": {
      "text/plain": [
       "dict_keys(['full_matches', 'ngram_scored'])"
      ]
     },
     "execution_count": 7,
     "metadata": {},
     "output_type": "execute_result"
    }
   ],
   "source": [
    "annotations['results'].keys()"
   ]
  },
  {
   "cell_type": "code",
   "execution_count": 15,
   "metadata": {},
   "outputs": [],
   "source": [
    "def get_full_match(annotations):\n",
    "    skills=set()\n",
    "    full_match=annotations['results']['full_matches']\n",
    "    for dict_item in full_match:\n",
    "        skills.add(dict_item['doc_node_value'])\n",
    "    return skills\n",
    "\n",
    "def get_sub_matches(annotations):\n",
    "    skills=set()\n",
    "    sub_match=annotations['results']['ngram_scored']\n",
    "    for dict_item in sub_match:\n",
    "        if dict_item['score'] >=0.7:\n",
    "            skills.add(dict_item['doc_node_value'])  \n",
    "    return skills\n",
    "\n",
    "def extract_skills(des):\n",
    "    skill_extractor = SkillExtractor(nlp, SKILL_DB, PhraseMatcher)\n",
    "    annotations = skill_extractor.annotate(des)\n",
    "    full_match=get_full_match(annotations)\n",
    "    print(\"Full Match:\",len(full_match))\n",
    "    sub_match=get_sub_matches(annotations)\n",
    "    print(\"Sub Match:\",len(sub_match))\n",
    "    full_match=full_match.union(sub_match)\n",
    "    return full_match\n",
    "    "
   ]
  },
  {
   "cell_type": "code",
   "execution_count": 16,
   "metadata": {},
   "outputs": [
    {
     "name": "stdout",
     "output_type": "stream",
     "text": [
      "loading full_matcher ...\n",
      "loading abv_matcher ...\n",
      "loading full_uni_matcher ...\n",
      "loading low_form_matcher ...\n",
      "loading token_matcher ...\n"
     ]
    },
    {
     "name": "stderr",
     "output_type": "stream",
     "text": [
      "C:\\Users\\RAHAT\\AppData\\Roaming\\Python\\Python37\\site-packages\\skillNer\\utils.py:99: UserWarning: [W008] Evaluating Token.similarity based on empty vectors.\n",
      "  vec_similarity = token1.similarity(token2)\n"
     ]
    },
    {
     "name": "stdout",
     "output_type": "stream",
     "text": [
      "Full Match: 10\n",
      "Sub Match: 34\n"
     ]
    }
   ],
   "source": [
    "skill=extract_skills(job_description)"
   ]
  },
  {
   "cell_type": "code",
   "execution_count": 12,
   "metadata": {},
   "outputs": [
    {
     "data": {
      "text/plain": [
       "44"
      ]
     },
     "execution_count": 12,
     "metadata": {},
     "output_type": "execute_result"
    }
   ],
   "source": [
    "len(skill)"
   ]
  },
  {
   "cell_type": "code",
   "execution_count": 19,
   "metadata": {},
   "outputs": [],
   "source": [
    "s = ','.join(str(x) for x in skill)"
   ]
  },
  {
   "cell_type": "code",
   "execution_count": 20,
   "metadata": {},
   "outputs": [
    {
     "data": {
      "text/plain": [
       "'visual basic,business journal,develop test,adoption,javascript,java,graphic software,maintain,projects integrate,e,web application,designers test,docker,web developer,Api,debug,front end,write documentation,accessible,develops tests,software engineers,tools,react,loan,SCI,kubernetes,program generous,engineers web,database engineers,web development,art commercial,disability,personal,HTML,ts,software development,medical,genetic,technical documentation,planning,management,innovative,color,troubleshooting'"
      ]
     },
     "execution_count": 20,
     "metadata": {},
     "output_type": "execute_result"
    }
   ],
   "source": [
    "s"
   ]
  },
  {
   "cell_type": "code",
   "execution_count": null,
   "metadata": {},
   "outputs": [],
   "source": []
  }
 ],
 "metadata": {
  "kernelspec": {
   "display_name": "Python 3",
   "language": "python",
   "name": "python3"
  },
  "language_info": {
   "codemirror_mode": {
    "name": "ipython",
    "version": 3
   },
   "file_extension": ".py",
   "mimetype": "text/x-python",
   "name": "python",
   "nbconvert_exporter": "python",
   "pygments_lexer": "ipython3",
   "version": "3.7.6"
  }
 },
 "nbformat": 4,
 "nbformat_minor": 4
}
